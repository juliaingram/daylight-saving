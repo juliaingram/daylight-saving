{
 "cells": [
  {
   "cell_type": "markdown",
   "id": "74fbd277",
   "metadata": {},
   "source": [
    "# Daylight Savings Legislation\n",
    "\n",
    "Steps for this project:\n",
    "- Scrape this website: https://www.ncsl.org/research/transportation/daylight-savings-time-state-legislation.aspx\n",
    "- Create map that shows: which states have bills, whether it will change to DST or EST\n",
    "- Similar map to put next to it that shows 2021\n",
    "- Create bar chart (or other type of chart) that shows status of the bill, something more detailed than \"pending\"\n",
    "\n",
    "Questions/things to figure out:\n",
    "- How do I differentiate my visualizations from what's already available on the NCSL?\n",
    "- Where do I find info/data on Congressional rather than state legislation? (perhaps https://www.govtrack.us/congress/bills/browse?congress=117&text=daylight%20savings#sort=relevance but would have to manually check results)"
   ]
  },
  {
   "cell_type": "markdown",
   "id": "99e6ef56",
   "metadata": {},
   "source": [
    "- grid chart (x-y)\n",
    "- farming vs. bills\n",
    "- check for duplicate bills"
   ]
  },
  {
   "cell_type": "markdown",
   "id": "3d01f3c2",
   "metadata": {},
   "source": [
    "=IMPORTHTML in google sheets"
   ]
  },
  {
   "cell_type": "code",
   "execution_count": 122,
   "id": "c93dca4b",
   "metadata": {},
   "outputs": [],
   "source": [
    "import pandas as pd\n",
    "from bs4 import BeautifulSoup\n",
    "import requests\n",
    "from plotnine import *\n",
    "import re\n",
    "import time"
   ]
  },
  {
   "cell_type": "code",
   "execution_count": null,
   "id": "ffea0162",
   "metadata": {},
   "outputs": [],
   "source": [
    "plt.rcParams['svg.fonttype'] = 'none'"
   ]
  },
  {
   "cell_type": "markdown",
   "id": "fcf5038b",
   "metadata": {},
   "source": [
    "## Legislation\n",
    "\n",
    "Scraping the National Conference of State Legislature's [data](https://www.ncsl.org/research/transportation/daylight-savings-time-state-legislation.aspx) on state bills to change clock-switching. "
   ]
  },
  {
   "cell_type": "code",
   "execution_count": 123,
   "id": "927213e5",
   "metadata": {},
   "outputs": [],
   "source": [
    "url = 'https://www.ncsl.org/research/transportation/daylight-savings-time-state-legislation.aspx'"
   ]
  },
  {
   "cell_type": "code",
   "execution_count": 124,
   "id": "64e74315",
   "metadata": {},
   "outputs": [],
   "source": [
    "raw_html = requests.get(url).content\n",
    "soup = BeautifulSoup(raw_html, \"html.parser\")"
   ]
  },
  {
   "cell_type": "code",
   "execution_count": 125,
   "id": "a2986a1f",
   "metadata": {},
   "outputs": [],
   "source": [
    "def scrape_table(index, year):\n",
    "    html = soup.find_all('table')[index]\n",
    "    table = []\n",
    "    for i, tr in enumerate(html.find_all('tr')[1:]):\n",
    "        row = {}\n",
    "        try:\n",
    "            row['state'] = tr.find_all('td')[0].get_text()\n",
    "            if row['state'] == u'\\xa0':\n",
    "                row['state'] = table[i-1]['state']\n",
    "            row['bill_no'] = tr.find_all('td')[1].get_text()\n",
    "            row['primary_sponsor'] = tr.find_all('td')[2].get_text()\n",
    "            row['status'] = tr.find_all('td')[3].get_text()\n",
    "            row['summary'] = tr.find_all('td')[4].get_text()\n",
    "            try: \n",
    "                row['bill_link'] = tr.find_all('td')[1].find('a')['href']\n",
    "            except: #If bill doesn't have hyperlink, skip\n",
    "                pass\n",
    "            table.append(row)\n",
    "        except: #If there's more than one bill per state (2021 and 2022), shift indexes of cells\n",
    "            row['state'] = table[i-1]['state']\n",
    "            row['bill_no'] = tr.find_all('td')[0].get_text()\n",
    "            row['primary_sponsor'] = tr.find_all('td')[1].get_text()\n",
    "            row['status'] = tr.find_all('td')[2].get_text()\n",
    "            try: \n",
    "                row['summary'] = tr.find_all('td')[3].get_text()\n",
    "            except: #If multiple bills do the same thing, use summary from previous row\n",
    "                row['summary'] = table[i-1]['summary']\n",
    "            try:\n",
    "                row['bill_link'] = tr.find_all('td')[0].find('a')['href']\n",
    "            except: #If bill doesn't have hyperlink, skip\n",
    "                pass\n",
    "            table.append(row)\n",
    "    table_clean = []\n",
    "    for row in table:\n",
    "        row_clean = {}\n",
    "        for index, cell in enumerate(row.values()):\n",
    "            cell = cell.replace('\\n', '').replace('\\t', '')\n",
    "            row_clean[list(row.keys())[index]] = cell\n",
    "        table_clean.append(row_clean)\n",
    "    df = pd.DataFrame(table_clean)\n",
    "    df['year'] = year\n",
    "    return df"
   ]
  },
  {
   "cell_type": "code",
   "execution_count": 126,
   "id": "41622f19",
   "metadata": {},
   "outputs": [],
   "source": [
    "#Index is based on table placement on the webpage; they are in reverse chronological order here\n",
    "state_bills22 = scrape_table(0, 2022) \n",
    "state_bills21 = scrape_table(1, 2021)\n",
    "state_bills20 = scrape_table(2, 2020)"
   ]
  },
  {
   "cell_type": "code",
   "execution_count": 127,
   "id": "582670ba",
   "metadata": {},
   "outputs": [],
   "source": [
    "all_years = pd.concat([state_bills22, state_bills21, state_bills20])"
   ]
  },
  {
   "cell_type": "code",
   "execution_count": 128,
   "id": "b8ae9290",
   "metadata": {},
   "outputs": [],
   "source": [
    "def clean_table(table):\n",
    "    table.loc[table.primary_sponsor.str.contains('R-'), 'party'] = 'R'\n",
    "    table.loc[table.primary_sponsor.str.contains('D-'), 'party'] = 'D'\n",
    "    table.loc[table.primary_sponsor.str.contains('I-'), 'party'] = 'I'\n",
    "    table.bill_no = table.bill_no.str.replace(' \\(', '(')"
   ]
  },
  {
   "cell_type": "code",
   "execution_count": 129,
   "id": "dc376145",
   "metadata": {},
   "outputs": [
    {
     "name": "stderr",
     "output_type": "stream",
     "text": [
      "/var/folders/tx/ryc062z51z1287rjpvrp4jlc0000gn/T/ipykernel_6558/2501339832.py:5: FutureWarning: The default value of regex will change from True to False in a future version.\n"
     ]
    }
   ],
   "source": [
    "clean_table(all_years)"
   ]
  },
  {
   "cell_type": "code",
   "execution_count": 130,
   "id": "d8e032eb",
   "metadata": {},
   "outputs": [],
   "source": [
    "year_totals = all_years.year.value_counts().reset_index(name='num_bills')"
   ]
  },
  {
   "cell_type": "code",
   "execution_count": 131,
   "id": "5ec66fa4",
   "metadata": {},
   "outputs": [],
   "source": [
    "grid_data = all_years.groupby(['state', 'year']).year.count().reset_index(name='num_bills')[:130]"
   ]
  },
  {
   "cell_type": "code",
   "execution_count": 132,
   "id": "5c9dfdb1",
   "metadata": {},
   "outputs": [
    {
     "data": {
      "image/png": "[encoded data removed]",
      "text/plain": [
       "<Figure size 640x480 with 1 Axes>"
      ]
     },
     "metadata": {},
     "output_type": "display_data"
    },
    {
     "data": {
      "text/plain": [
       "<ggplot: (330400793)>"
      ]
     },
     "metadata": {},
     "output_type": "display_data"
    }
   ],
   "source": [
    "display (\n",
    "    ggplot(grid_data)\n",
    "    + geom_tile(aes(x='year', y='state', fill='num_bills'))\n",
    ")"
   ]
  },
  {
   "cell_type": "code",
   "execution_count": 133,
   "id": "03313524",
   "metadata": {},
   "outputs": [],
   "source": [
    "outcomes = all_years.groupby(['state', 'status', 'year']).bill_no.count().reset_index(name='num_outcomes')"
   ]
  },
  {
   "cell_type": "code",
   "execution_count": null,
   "id": "44935652",
   "metadata": {},
   "outputs": [],
   "source": [
    "outcomes.status.value_counts()"
   ]
  },
  {
   "cell_type": "code",
   "execution_count": null,
   "id": "280f04c2",
   "metadata": {},
   "outputs": [],
   "source": [
    "outcomes.status = \\\n",
    "                outcomes.status.str.replace(r'\\(.*', '').str.strip()\\\n",
    "                .str.replace('Failed Adjourned', 'Failed')\\\n",
    "                .str.replace('FailedAdjourned', 'Failed')\\\n",
    "                .str.replace('Failed-Adjourned, Failed')\n",
    "                .str.replace('Amendment Failed', 'Failed')\\\n",
    "                .str.replace(r'2020.*', 'Enacted')\\\n",
    "                .str.replace('Adopted', 'Enacted')\n"
   ]
  },
  {
   "cell_type": "code",
   "execution_count": 136,
   "id": "169703c3",
   "metadata": {},
   "outputs": [],
   "source": [
    "enacted_states = outcomes[outcomes.status == 'Enacted']\n"
   ]
  },
  {
   "cell_type": "code",
   "execution_count": 137,
   "id": "d4726d63",
   "metadata": {},
   "outputs": [],
   "source": [
    "outcomes.drop(outcomes[(outcomes.status!='Enacted') \\\n",
    "                       & (outcomes.state.isin(list(enacted_states.state)))].index,\\\n",
    "                         inplace=True)"
   ]
  },
  {
   "cell_type": "code",
   "execution_count": 138,
   "id": "e4041133",
   "metadata": {},
   "outputs": [],
   "source": [
    "outcomes.drop(outcomes[outcomes.status == 'Pre-filed'].index, inplace=True)"
   ]
  },
  {
   "cell_type": "code",
   "execution_count": 139,
   "id": "d1799533",
   "metadata": {},
   "outputs": [],
   "source": [
    "outcomes = outcomes.sort_values('state')"
   ]
  },
  {
   "cell_type": "code",
   "execution_count": 140,
   "id": "afd00d47",
   "metadata": {},
   "outputs": [],
   "source": [
    "outcomes = outcomes.sort_values('status')"
   ]
  },
  {
   "cell_type": "code",
   "execution_count": null,
   "id": "a42c222f",
   "metadata": {
    "scrolled": true
   },
   "outputs": [],
   "source": [
    "states = list(outcomes.state.unique())\n",
    "\n",
    "tile_chart = (\n",
    "    ggplot(outcomes)\n",
    "    + geom_tile(aes(x='year', y='state', fill='status'), color = \"white\", size=0.2)#\n",
    "    #+ coord_fixed()\n",
    "    #+ scale_fill_manual(['#f2bf30', '#f5ecc4', '#f4dd93', '#f3ca55']) #enacted, failed, adjourned, pending\n",
    "    + scale_fill_manual(['#A8E799', '#F89176', '#FAE688'])\n",
    "    + theme_minimal()\n",
    "    + scale_y_discrete(limits=states[::-1])\n",
    "    + theme(panel_grid_major=element_blank(),\n",
    "            panel_grid_minor=element_blank())\n",
    "    + labs(title='28 states are considering legislation on Daylight Saving Time in 2022',\n",
    "           x='', \n",
    "           y='')\n",
    ")\n",
    "\n",
    "display(tile_chart)"
   ]
  },
  {
   "cell_type": "code",
   "execution_count": 547,
   "id": "34afc81f",
   "metadata": {
    "scrolled": true
   },
   "outputs": [
    {
     "name": "stderr",
     "output_type": "stream",
     "text": [
      "/Users/jmingram/.pyenv/versions/3.10.0/lib/python3.10/site-packages/plotnine/ggplot.py:719: PlotnineWarning: Saving 6.4 x 4.8 in image.\n",
      "/Users/jmingram/.pyenv/versions/3.10.0/lib/python3.10/site-packages/plotnine/ggplot.py:722: PlotnineWarning: Filename: states_tiles.svg\n"
     ]
    }
   ],
   "source": [
    "tile_chart.save('states_tiles.svg')"
   ]
  },
  {
   "cell_type": "markdown",
   "id": "60fb50ee",
   "metadata": {},
   "source": [
    "## Sunrise and Sunset\n",
    "\n",
    "Steps:\n",
    "1. Scrape lat long of US cities from https://www.latlong.net/category/cities-236-15-1.html\n",
    "2. Create a function to pull sunrise/sunset times from https://sunrise-sunset.org/api on a given day\n",
    "3. Adjust for time zones\n",
    "4. Map what it would be like without daylight savings on that given day"
   ]
  },
  {
   "cell_type": "code",
   "execution_count": 370,
   "id": "d1a9933f",
   "metadata": {},
   "outputs": [],
   "source": [
    "alldfs = []\n",
    "for page in range(1,11):\n",
    "    cities = []\n",
    "    if page == 1:\n",
    "        url_latlng = 'https://www.latlong.net/category/cities-236-15.html'\n",
    "    else:\n",
    "        url_latlng = 'https://www.latlong.net/category/cities-236-15-' + str(page) + '.html'\n",
    "    raw_html_latlng = requests.get(url_latlng).content\n",
    "    soup_latlng = BeautifulSoup(raw_html_latlng, \"html.parser\")\n",
    "    for row in soup_latlng.find_all('tr')[1:]:\n",
    "        city = {}\n",
    "        city['name'] = row.find_all('td')[0].get_text()\n",
    "        city['lat'] = row.find_all('td')[1].get_text()\n",
    "        city['lng'] = row.find_all('td')[2].get_text()\n",
    "        cities.append(city)\n",
    "    df = pd.DataFrame(cities)\n",
    "    alldfs.append(df)\n",
    "cities_geo = pd.concat(alldfs)"
   ]
  },
  {
   "cell_type": "code",
   "execution_count": 371,
   "id": "84d2cb4c",
   "metadata": {},
   "outputs": [],
   "source": [
    "def clean_cities_df(df):\n",
    "    df = df.drop_duplicates()\n",
    "    df['request_url'] = 'https://api.sunrise-sunset.org/json?lat=' + df.lat + '&lng=' + df.lng + '&date=2022-01-01'   \n",
    "    names_clean = df.name.str.split(', ', 2, expand=True)\n",
    "    names_clean.columns = ['city', 'state', 'country']\n",
    "    df = names_clean.join(df)\n",
    "    df.drop(columns=['name', 'country'], inplace=True)\n",
    "    return df"
   ]
  },
  {
   "cell_type": "code",
   "execution_count": 375,
   "id": "455e03eb",
   "metadata": {},
   "outputs": [],
   "source": [
    "newdfs = []\n",
    "for df in alldfs:\n",
    "    newdfs.append(clean_cities_df(df))"
   ]
  },
  {
   "cell_type": "code",
   "execution_count": 377,
   "id": "ce622c2e",
   "metadata": {},
   "outputs": [
    {
     "name": "stderr",
     "output_type": "stream",
     "text": [
      "/var/folders/tx/ryc062z51z1287rjpvrp4jlc0000gn/T/ipykernel_6558/3972240865.py:3: SettingWithCopyWarning: \n",
      "A value is trying to be set on a copy of a slice from a DataFrame.\n",
      "Try using .loc[row_indexer,col_indexer] = value instead\n",
      "\n",
      "See the caveats in the documentation: https://pandas.pydata.org/pandas-docs/stable/user_guide/indexing.html#returning-a-view-versus-a-copy\n"
     ]
    }
   ],
   "source": [
    "cities_geo = clean_cities_df(cities_geo)"
   ]
  },
  {
   "cell_type": "code",
   "execution_count": 378,
   "id": "aa025526",
   "metadata": {},
   "outputs": [],
   "source": [
    "def get_sunrise(url):\n",
    "    return requests.get(url).json()['results']['sunrise']\n",
    "def get_sunset(url):\n",
    "    return requests.get(url).json()['results']['sunset']"
   ]
  },
  {
   "cell_type": "code",
   "execution_count": 380,
   "id": "7e715d78",
   "metadata": {},
   "outputs": [
    {
     "name": "stdout",
     "output_type": "stream",
     "text": [
      "Starting page:  1\n",
      "Starting page:  2\n",
      "Starting page:  3\n",
      "Starting page:  4\n",
      "Starting page:  5\n",
      "Starting page:  6\n",
      "Starting page:  7\n",
      "Starting page:  8\n",
      "Starting page:  9\n",
      "Starting page:  10\n"
     ]
    }
   ],
   "source": [
    "#Takes a few minutes\n",
    "for index, df in enumerate(newdfs):\n",
    "    print('Starting page: ', str(index+1))\n",
    "    df['sunrise_2022-01-01'] = df.request_url.apply(lambda x:get_sunrise(x))"
   ]
  },
  {
   "cell_type": "code",
   "execution_count": 382,
   "id": "1cfa7267",
   "metadata": {},
   "outputs": [
    {
     "name": "stdout",
     "output_type": "stream",
     "text": [
      "Starting page:  1\n",
      "Starting page:  2\n",
      "Starting page:  3\n",
      "Starting page:  4\n",
      "Starting page:  5\n",
      "Starting page:  6\n",
      "Starting page:  7\n",
      "Starting page:  8\n",
      "Starting page:  9\n",
      "Starting page:  10\n"
     ]
    }
   ],
   "source": [
    "#Takes a few minutes\n",
    "for index, df in enumerate(newdfs):\n",
    "    print('Starting page: ', str(index+1))\n",
    "    df['sunset_2022-01-01'] = df.request_url.apply(lambda x:get_sunset(x))"
   ]
  },
  {
   "cell_type": "code",
   "execution_count": 383,
   "id": "7f35fc24",
   "metadata": {},
   "outputs": [],
   "source": [
    "cities_geo = pd.concat(newdfs)"
   ]
  },
  {
   "cell_type": "code",
   "execution_count": 390,
   "id": "cec7ec27",
   "metadata": {},
   "outputs": [],
   "source": [
    "cities_geo['sunrise_2022-01-01'] = pd.to_datetime(cities_geo['sunrise_2022-01-01'])\n",
    "cities_geo['sunset_2022-01-01'] = pd.to_datetime(cities_geo['sunset_2022-01-01'])"
   ]
  },
  {
   "cell_type": "code",
   "execution_count": 391,
   "id": "7c038acc",
   "metadata": {},
   "outputs": [],
   "source": [
    "#!pip install timezonefinder[numba] \n",
    "from timezonefinder import TimezoneFinder\n",
    "tf = TimezoneFinder()"
   ]
  },
  {
   "cell_type": "code",
   "execution_count": 392,
   "id": "db2ddc37",
   "metadata": {},
   "outputs": [],
   "source": [
    "from datetime import timedelta"
   ]
  },
  {
   "cell_type": "code",
   "execution_count": 393,
   "id": "81c11923",
   "metadata": {},
   "outputs": [],
   "source": [
    "def adjust_timezone_DST(place, latitude, longitude, time):\n",
    "    timezone = tf.timezone_at(lng=float(longitude), lat=float(latitude))\n",
    "    if timezone == 'America/Los_Angeles':\n",
    "        return time - timedelta(hours=7)\n",
    "    elif timezone == 'America/Boise':\n",
    "        return time - timedelta(hours=6)\n",
    "    elif timezone == 'America/Chicago':\n",
    "        return time - timedelta(hours=5)\n",
    "    elif timezone == 'America/New_York':\n",
    "        return time - timedelta(hours=4)"
   ]
  },
  {
   "cell_type": "code",
   "execution_count": 395,
   "id": "374a0ea9",
   "metadata": {},
   "outputs": [],
   "source": [
    "cities_geo['sunrise_2022-01-01'] = cities_geo.apply(lambda x:adjust_timezone_DST(x.name, x.lat, x.lng, x['sunrise_2022-01-01']), axis=1)\n",
    "cities_geo['sunset_2022-01-01'] = cities_geo.apply(lambda x:adjust_timezone_DST(x.name, x.lat, x.lng, x['sunset_2022-01-01']), axis=1)"
   ]
  },
  {
   "cell_type": "code",
   "execution_count": 402,
   "id": "165f3d45",
   "metadata": {},
   "outputs": [],
   "source": [
    "cities_geo['sunrise_str'] = cities_geo['sunrise_2022-01-01'].dt.strftime('%H%M%S')\n",
    "cities_geo['sunset_str'] = cities_geo['sunset_2022-01-01'].dt.strftime('%H%M%S')"
   ]
  },
  {
   "cell_type": "code",
   "execution_count": 403,
   "id": "b497902d",
   "metadata": {},
   "outputs": [],
   "source": [
    "cities_geo.to_csv('cities_geo_sunrise_sunset_JanDST.csv')"
   ]
  },
  {
   "cell_type": "code",
   "execution_count": 397,
   "id": "94319ad2",
   "metadata": {},
   "outputs": [
    {
     "data": {
      "text/plain": [
       "city                          object\n",
       "state                         object\n",
       "lat                           object\n",
       "lng                           object\n",
       "request_url                   object\n",
       "sunrise_2022-01-01    datetime64[ns]\n",
       "sunset_2022-01-01     datetime64[ns]\n",
       "dtype: object"
      ]
     },
     "execution_count": 397,
     "metadata": {},
     "output_type": "execute_result"
    }
   ],
   "source": [
    "cities_geo.dtypes"
   ]
  },
  {
   "cell_type": "code",
   "execution_count": null,
   "id": "157053da",
   "metadata": {},
   "outputs": [],
   "source": []
  }
 ],
 "metadata": {
  "kernelspec": {
   "display_name": "Python 3 (ipykernel)",
   "language": "python",
   "name": "python3"
  },
  "language_info": {
   "codemirror_mode": {
    "name": "ipython",
    "version": 3
   },
   "file_extension": ".py",
   "mimetype": "text/x-python",
   "name": "python",
   "nbconvert_exporter": "python",
   "pygments_lexer": "ipython3",
   "version": "3.10.0"
  }
 },
 "nbformat": 4,
 "nbformat_minor": 5
}
