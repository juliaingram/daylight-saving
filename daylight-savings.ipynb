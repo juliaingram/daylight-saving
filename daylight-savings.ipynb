{
 "cells": [
  {
   "cell_type": "markdown",
   "id": "74fbd277",
   "metadata": {},
   "source": [
    "# Daylight Savings Legislation\n",
    "\n",
    "This notebook scrapes data from the National Conference of State Legislatures on state legislation to on daylight saving time in 2020, 2021 and 2022. It creates graphics in plotnine to visualize that legislation. \n",
    "\n",
    "It also scrapes the latitude and longitude of about 975 U.S. cities from uses the API from [LatLong.net](https://www.latlong.net/category/cities-236-15-1.html) and uses that geographic information to pull sunrise and sunset times from the [sunrise-sunset.org API](https://sunrise-sunset.org/api). These times are modified to show the time of sunrise and sunset on Jan. 1, 2022 if the U.S. observed daylight saving time year-round. "
   ]
  },
  {
   "cell_type": "code",
   "execution_count": 3,
   "id": "c93dca4b",
   "metadata": {},
   "outputs": [],
   "source": [
    "import pandas as pd\n",
    "from bs4 import BeautifulSoup\n",
    "import requests\n",
    "from plotnine import *\n",
    "import matplotlib.pyplot as plt\n",
    "import re\n",
    "import time"
   ]
  },
  {
   "cell_type": "code",
   "execution_count": 4,
   "id": "ac4548ab",
   "metadata": {},
   "outputs": [],
   "source": [
    "plt.rcParams['svg.fonttype'] = 'none'"
   ]
  },
  {
   "cell_type": "markdown",
   "id": "fcf5038b",
   "metadata": {},
   "source": [
    "## Legislation\n",
    "\n",
    "Scraping the National Conference of State Legislature's [data](https://www.ncsl.org/research/transportation/daylight-savings-time-state-legislation.aspx) on state bills to change clock-switching. "
   ]
  },
  {
   "cell_type": "code",
   "execution_count": 5,
   "id": "927213e5",
   "metadata": {},
   "outputs": [],
   "source": [
    "url = 'https://www.ncsl.org/research/transportation/daylight-savings-time-state-legislation.aspx'"
   ]
  },
  {
   "cell_type": "code",
   "execution_count": 6,
   "id": "64e74315",
   "metadata": {},
   "outputs": [],
   "source": [
    "raw_html = requests.get(url).content\n",
    "soup = BeautifulSoup(raw_html, \"html.parser\")"
   ]
  },
  {
   "cell_type": "code",
   "execution_count": 7,
   "id": "a2986a1f",
   "metadata": {},
   "outputs": [],
   "source": [
    "def scrape_table(index, year):\n",
    "    html = soup.find_all('table')[index]\n",
    "    table = []\n",
    "    for i, tr in enumerate(html.find_all('tr')[1:]):\n",
    "        row = {}\n",
    "        try:\n",
    "            row['state'] = tr.find_all('td')[0].get_text()\n",
    "            if row['state'] == u'\\xa0':\n",
    "                row['state'] = table[i-1]['state']\n",
    "            row['bill_no'] = tr.find_all('td')[1].get_text()\n",
    "            row['primary_sponsor'] = tr.find_all('td')[2].get_text()\n",
    "            row['status'] = tr.find_all('td')[3].get_text()\n",
    "            row['summary'] = tr.find_all('td')[4].get_text()\n",
    "            try: \n",
    "                row['bill_link'] = tr.find_all('td')[1].find('a')['href']\n",
    "            except: #If bill doesn't have hyperlink, skip\n",
    "                pass\n",
    "            table.append(row)\n",
    "        except: #If there's more than one bill per state (2021 and 2022), shift indexes of cells\n",
    "            row['state'] = table[i-1]['state']\n",
    "            row['bill_no'] = tr.find_all('td')[0].get_text()\n",
    "            row['primary_sponsor'] = tr.find_all('td')[1].get_text()\n",
    "            row['status'] = tr.find_all('td')[2].get_text()\n",
    "            try: \n",
    "                row['summary'] = tr.find_all('td')[3].get_text()\n",
    "            except: #If multiple bills do the same thing, use summary from previous row\n",
    "                row['summary'] = table[i-1]['summary']\n",
    "            try:\n",
    "                row['bill_link'] = tr.find_all('td')[0].find('a')['href']\n",
    "            except: #If bill doesn't have hyperlink, skip\n",
    "                pass\n",
    "            table.append(row)\n",
    "    table_clean = []\n",
    "    for row in table:\n",
    "        row_clean = {}\n",
    "        for index, cell in enumerate(row.values()):\n",
    "            cell = cell.replace('\\n', '').replace('\\t', '')\n",
    "            row_clean[list(row.keys())[index]] = cell\n",
    "        table_clean.append(row_clean)\n",
    "    df = pd.DataFrame(table_clean)\n",
    "    df['year'] = year\n",
    "    return df"
   ]
  },
  {
   "cell_type": "code",
   "execution_count": 8,
   "id": "41622f19",
   "metadata": {},
   "outputs": [],
   "source": [
    "#Index is based on table placement on the webpage; they are in reverse chronological order here\n",
    "state_bills22 = scrape_table(0, 2022) \n",
    "state_bills21 = scrape_table(1, 2021)\n",
    "state_bills20 = scrape_table(2, 2020)"
   ]
  },
  {
   "cell_type": "code",
   "execution_count": 9,
   "id": "582670ba",
   "metadata": {},
   "outputs": [],
   "source": [
    "all_years = pd.concat([state_bills22, state_bills21, state_bills20])"
   ]
  },
  {
   "cell_type": "code",
   "execution_count": 10,
   "id": "b8ae9290",
   "metadata": {},
   "outputs": [],
   "source": [
    "def clean_table(table):\n",
    "    table.loc[table.primary_sponsor.str.contains('R-'), 'party'] = 'R'\n",
    "    table.loc[table.primary_sponsor.str.contains('D-'), 'party'] = 'D'\n",
    "    table.loc[table.primary_sponsor.str.contains('I-'), 'party'] = 'I'\n",
    "    table.bill_no = table.bill_no.str.replace(' \\(', '(')"
   ]
  },
  {
   "cell_type": "code",
   "execution_count": 11,
   "id": "dc376145",
   "metadata": {},
   "outputs": [
    {
     "name": "stderr",
     "output_type": "stream",
     "text": [
      "/var/folders/tx/ryc062z51z1287rjpvrp4jlc0000gn/T/ipykernel_24574/2501339832.py:5: FutureWarning: The default value of regex will change from True to False in a future version.\n"
     ]
    }
   ],
   "source": [
    "clean_table(all_years)"
   ]
  },
  {
   "cell_type": "code",
   "execution_count": 12,
   "id": "03313524",
   "metadata": {},
   "outputs": [],
   "source": [
    "outcomes = all_years.groupby(['state', 'status', 'year']).bill_no.count().reset_index(name='num_outcomes')"
   ]
  },
  {
   "cell_type": "code",
   "execution_count": 13,
   "id": "44935652",
   "metadata": {},
   "outputs": [
    {
     "data": {
      "text/plain": [
       "Pending                           43\n",
       "Failed-Adjourned                  27\n",
       "Failed                            18\n",
       "Pre-filed                          3\n",
       "Enacted                            3\n",
       "Adopted                            2\n",
       "Enacted (5/13/21)                  1\n",
       "2020 Wyo. Sess. Laws, Ch. 134      1\n",
       "Enacted (5/8/19)                   1\n",
       "Enacted(3/28/2020)                 1\n",
       "2020 S.C.Act 113(2/7/2020)         1\n",
       "Failed Adjourned                   1\n",
       "Enacted(5/10/21)                   1\n",
       "Enacted(6/9/2020)                  1\n",
       "Enacted(6/30/21)                   1\n",
       "Amendment Failed                   1\n",
       "2020 Idaho Sess. Laws, Ch. 145     1\n",
       "FailedAdjourned                    1\n",
       "Enacted(4/21/21)                   1\n",
       "Adopted(3/9/2020)                  1\n",
       "Adopted(4/15/21)                   1\n",
       "Name: status, dtype: int64"
      ]
     },
     "execution_count": 13,
     "metadata": {},
     "output_type": "execute_result"
    }
   ],
   "source": [
    "outcomes.status.value_counts()"
   ]
  },
  {
   "cell_type": "code",
   "execution_count": 28,
   "id": "280f04c2",
   "metadata": {},
   "outputs": [
    {
     "name": "stderr",
     "output_type": "stream",
     "text": [
      "/var/folders/tx/ryc062z51z1287rjpvrp4jlc0000gn/T/ipykernel_24574/2295436383.py:2: FutureWarning: The default value of regex will change from True to False in a future version.\n",
      "/var/folders/tx/ryc062z51z1287rjpvrp4jlc0000gn/T/ipykernel_24574/2295436383.py:7: FutureWarning: The default value of regex will change from True to False in a future version.\n"
     ]
    }
   ],
   "source": [
    "outcomes.status = \\\n",
    "                outcomes.status.str.replace(r'\\(.*', '').str.strip()\\\n",
    "                .str.replace('Failed Adjourned', 'Failed')\\\n",
    "                .str.replace('FailedAdjourned', 'Failed')\\\n",
    "                .str.replace('Failed-Adjourned', 'Failed')\\\n",
    "                .str.replace('Amendment Failed', 'Failed')\\\n",
    "                .str.replace(r'2020.*', 'Enacted')\\\n",
    "                .str.replace('Adopted', 'Enacted')\n"
   ]
  },
  {
   "cell_type": "code",
   "execution_count": 29,
   "id": "169703c3",
   "metadata": {},
   "outputs": [],
   "source": [
    "enacted_states = outcomes[outcomes.status == 'Enacted']\n"
   ]
  },
  {
   "cell_type": "code",
   "execution_count": 30,
   "id": "e4041133",
   "metadata": {},
   "outputs": [],
   "source": [
    "outcomes.drop(outcomes[outcomes.status == 'Pre-filed'].index, inplace=True)"
   ]
  },
  {
   "cell_type": "code",
   "execution_count": 31,
   "id": "d1799533",
   "metadata": {},
   "outputs": [],
   "source": [
    "outcomes = outcomes.sort_values('state')"
   ]
  },
  {
   "cell_type": "code",
   "execution_count": 32,
   "id": "1ff69234",
   "metadata": {},
   "outputs": [],
   "source": [
    "outcomes = outcomes.sort_values('status')"
   ]
  },
  {
   "cell_type": "code",
   "execution_count": null,
   "id": "a42c222f",
   "metadata": {
    "scrolled": true
   },
   "outputs": [],
   "source": [
    "states = list(outcomes.state.unique())\n",
    "\n",
    "tile_chart = (\n",
    "    ggplot(outcomes)\n",
    "    + geom_tile(aes(x='year', y='state', fill='status'), color = \"white\", size=0.2)#\n",
    "    + scale_fill_manual(['#A8E799', '#F89176', '#FAE688'])\n",
    "    + theme_minimal()\n",
    "    + scale_y_discrete(limits=states[::-1])\n",
    "    + theme(panel_grid_major=element_blank(),\n",
    "            panel_grid_minor=element_blank())\n",
    "    + labs(title='28 states are considering legislation on Daylight Saving Time in 2022',\n",
    "           x='', \n",
    "           y='')\n",
    ")\n",
    "\n",
    "display(tile_chart)"
   ]
  },
  {
   "cell_type": "code",
   "execution_count": null,
   "id": "34afc81f",
   "metadata": {
    "scrolled": true
   },
   "outputs": [],
   "source": [
    "tile_chart.save('states_tiles.svg')"
   ]
  },
  {
   "cell_type": "code",
   "execution_count": 33,
   "id": "ed012ba5",
   "metadata": {},
   "outputs": [],
   "source": [
    "outcomes_enacted = outcomes[(outcomes.state.isin(list(outcomes[outcomes.status == 'Enacted'].state))) &\\\n",
    "                           (outcomes.year != 2022)]"
   ]
  },
  {
   "cell_type": "code",
   "execution_count": 34,
   "id": "22b2dfe6",
   "metadata": {},
   "outputs": [],
   "source": [
    "outcomes_2022_states = list(outcomes[outcomes.year==2022].state.unique())\n",
    "outcomes_2022 = outcomes[outcomes.state.isin(outcomes_2022_states)]"
   ]
  },
  {
   "cell_type": "code",
   "execution_count": 35,
   "id": "dfd5946a",
   "metadata": {},
   "outputs": [],
   "source": [
    "#Manual sort for chart\n",
    "enacted_states = pd.DataFrame(\n",
    "                ['Alabama', 'Georgia', 'Ohio', 'Maine',\n",
    "                  'Minnesota', 'Mississippi', 'Montana',\n",
    "                 'Idaho', 'Louisiana', 'South Carolina',\n",
    "                 'Utah', 'Washington', 'Wyoming'])"
   ]
  },
  {
   "cell_type": "code",
   "execution_count": 36,
   "id": "b1fd2049",
   "metadata": {},
   "outputs": [],
   "source": [
    "enacted_states = enacted_states.reset_index()\n",
    "enacted_states.columns = ['state_rank', 'state']\n",
    "outcomes_enacted = outcomes_enacted.merge(enacted_states, on='state')"
   ]
  },
  {
   "cell_type": "code",
   "execution_count": null,
   "id": "74302861",
   "metadata": {},
   "outputs": [],
   "source": [
    "order = list(outcomes_enacted.sort_values('state_rank').state.unique())\n",
    "\n",
    "enacted_chart = (\n",
    "    ggplot(outcomes_enacted)\n",
    "    + geom_tile(aes(x='year', y='state', fill='status'), color = \"white\", size=0.2)\n",
    "    + scale_fill_manual(['#A8E799', '#F89176', '#FAE688'])\n",
    "    + theme_minimal()\n",
    "    + scale_y_discrete(limits=order[::-1])\n",
    "    + theme(panel_grid_major=element_blank(),\n",
    "            panel_grid_minor=element_blank())\n",
    "    + labs(title='17 states have adopted or enacted legislation on Daylight Saving Time over the past two years',\n",
    "           x='', \n",
    "           y='')\n",
    ")\n",
    "display(enacted_chart)\n",
    "\n",
    "enacted_chart.save('enacted.svg')\n",
    "#Requires manual cleaning and color correcting in Illustrator"
   ]
  },
  {
   "cell_type": "code",
   "execution_count": 37,
   "id": "008323a7",
   "metadata": {},
   "outputs": [],
   "source": [
    "#Manual sorting\n",
    "pending_states = pd.DataFrame(\n",
    "                ['Alaska', 'California', 'Iowa', 'Kansas', 'Kentucky', 'Maryland',\n",
    "                 'Massachusetts', 'Michigan', 'Minnesota', 'Nebraska', 'New Hampshire',\n",
    "                 'New Jersey', 'North Carolina', 'Ohio', 'South Carolina', 'South Dakota',\n",
    "                 'Utah', 'Colorado', 'Missouri', 'Vermont', 'Virginia', 'Washington', \n",
    "                 'West Virginia', 'Georgia', 'Illinois', 'New York', 'Oklahoma', \n",
    "                 'Pennsylvania'])\n",
    "pending_states = pending_states.reset_index()\n",
    "pending_states.columns = ['state_rank', 'state']\n",
    "outcomes_2022 = outcomes_2022.merge(pending_states, on='state')"
   ]
  },
  {
   "cell_type": "code",
   "execution_count": 38,
   "id": "49fdeae3",
   "metadata": {},
   "outputs": [
    {
     "data": {
      "image/png": "[encoded data removed]",
      "text/plain": [
       "<Figure size 640x480 with 1 Axes>"
      ]
     },
     "metadata": {
      "needs_background": "light"
     },
     "output_type": "display_data"
    },
    {
     "data": {
      "text/plain": [
       "<ggplot: (326082518)>"
      ]
     },
     "metadata": {},
     "output_type": "display_data"
    },
    {
     "name": "stderr",
     "output_type": "stream",
     "text": [
      "/Users/jmingram/.pyenv/versions/3.10.0/lib/python3.10/site-packages/plotnine/ggplot.py:719: PlotnineWarning: Saving 6.4 x 4.8 in image.\n",
      "/Users/jmingram/.pyenv/versions/3.10.0/lib/python3.10/site-packages/plotnine/ggplot.py:722: PlotnineWarning: Filename: 2022.svg\n"
     ]
    }
   ],
   "source": [
    "order = list(outcomes_2022.sort_values('state_rank').state.unique())\n",
    "\n",
    "chart_2022 = (\n",
    "    ggplot(outcomes_2022)\n",
    "    + geom_tile(aes(x='year', y='state', fill='status'), color  = \"white\", size=0.2)\n",
    "    + scale_fill_manual(['#A8E799', '#F89176', '#FAE688'])\n",
    "    + theme_minimal()\n",
    "    + scale_y_discrete(limits=order[::-1])\n",
    "    + theme(panel_grid_major=element_blank(),\n",
    "            panel_grid_minor=element_blank())\n",
    "    + labs(title='28 states are considering legislation on Daylight Saving Time in 2022',\n",
    "           x='', \n",
    "           y='')\n",
    ")\n",
    "display(chart_2022)\n",
    "\n",
    "chart_2022.save('2022.svg')"
   ]
  },
  {
   "cell_type": "markdown",
   "id": "b1a5a4de",
   "metadata": {},
   "source": [
    "## Sunrise and Sunset\n",
    "\n",
    "Steps:\n",
    "1. Scrape lat long of US cities from https://www.latlong.net/category/cities-236-15-1.html\n",
    "2. Create a function to pull sunrise/sunset times from https://sunrise-sunset.org/api on a given day\n",
    "3. Adjust for time zones\n",
    "4. Map what it would be like without daylight savings on that given day"
   ]
  },
  {
   "cell_type": "code",
   "execution_count": 370,
   "id": "c524e6fe",
   "metadata": {},
   "outputs": [],
   "source": [
    "alldfs = []\n",
    "for page in range(1,11):\n",
    "    cities = []\n",
    "    if page == 1:\n",
    "        url_latlng = 'https://www.latlong.net/category/cities-236-15.html'\n",
    "    else:\n",
    "        url_latlng = 'https://www.latlong.net/category/cities-236-15-' + str(page) + '.html'\n",
    "    raw_html_latlng = requests.get(url_latlng).content\n",
    "    soup_latlng = BeautifulSoup(raw_html_latlng, \"html.parser\")\n",
    "    for row in soup_latlng.find_all('tr')[1:]:\n",
    "        city = {}\n",
    "        city['name'] = row.find_all('td')[0].get_text()\n",
    "        city['lat'] = row.find_all('td')[1].get_text()\n",
    "        city['lng'] = row.find_all('td')[2].get_text()\n",
    "        cities.append(city)\n",
    "    df = pd.DataFrame(cities)\n",
    "    alldfs.append(df)\n",
    "cities_geo = pd.concat(alldfs)"
   ]
  },
  {
   "cell_type": "code",
   "execution_count": 371,
   "id": "bbb84b3f",
   "metadata": {},
   "outputs": [],
   "source": [
    "def clean_cities_df(df):\n",
    "    df = df.drop_duplicates()\n",
    "    df['request_url'] = 'https://api.sunrise-sunset.org/json?lat=' + df.lat + '&lng=' + df.lng + '&date=2022-01-01'   \n",
    "    names_clean = df.name.str.split(', ', 2, expand=True)\n",
    "    names_clean.columns = ['city', 'state', 'country']\n",
    "    df = names_clean.join(df)\n",
    "    df.drop(columns=['name', 'country'], inplace=True)\n",
    "    return df"
   ]
  },
  {
   "cell_type": "code",
   "execution_count": 375,
   "id": "766376e5",
   "metadata": {},
   "outputs": [],
   "source": [
    "newdfs = []\n",
    "for df in alldfs:\n",
    "    newdfs.append(clean_cities_df(df))"
   ]
  },
  {
   "cell_type": "code",
   "execution_count": 377,
   "id": "aad1d9ef",
   "metadata": {},
   "outputs": [
    {
     "name": "stderr",
     "output_type": "stream",
     "text": [
      "/var/folders/tx/ryc062z51z1287rjpvrp4jlc0000gn/T/ipykernel_6558/3972240865.py:3: SettingWithCopyWarning: \n",
      "A value is trying to be set on a copy of a slice from a DataFrame.\n",
      "Try using .loc[row_indexer,col_indexer] = value instead\n",
      "\n",
      "See the caveats in the documentation: https://pandas.pydata.org/pandas-docs/stable/user_guide/indexing.html#returning-a-view-versus-a-copy\n"
     ]
    }
   ],
   "source": [
    "cities_geo = clean_cities_df(cities_geo)"
   ]
  },
  {
   "cell_type": "code",
   "execution_count": 378,
   "id": "6b371032",
   "metadata": {},
   "outputs": [],
   "source": [
    "def get_sunrise(url):\n",
    "    return requests.get(url).json()['results']['sunrise']\n",
    "def get_sunset(url):\n",
    "    return requests.get(url).json()['results']['sunset']"
   ]
  },
  {
   "cell_type": "code",
   "execution_count": 380,
   "id": "5f9ce6f9",
   "metadata": {},
   "outputs": [
    {
     "name": "stdout",
     "output_type": "stream",
     "text": [
      "Starting page:  1\n",
      "Starting page:  2\n",
      "Starting page:  3\n",
      "Starting page:  4\n",
      "Starting page:  5\n",
      "Starting page:  6\n",
      "Starting page:  7\n",
      "Starting page:  8\n",
      "Starting page:  9\n",
      "Starting page:  10\n"
     ]
    }
   ],
   "source": [
    "#Takes a few minutes\n",
    "for index, df in enumerate(newdfs):\n",
    "    print('Starting page: ', str(index+1))\n",
    "    df['sunrise_2022-01-01'] = df.request_url.apply(lambda x:get_sunrise(x))"
   ]
  },
  {
   "cell_type": "code",
   "execution_count": 382,
   "id": "f4dde79e",
   "metadata": {},
   "outputs": [
    {
     "name": "stdout",
     "output_type": "stream",
     "text": [
      "Starting page:  1\n",
      "Starting page:  2\n",
      "Starting page:  3\n",
      "Starting page:  4\n",
      "Starting page:  5\n",
      "Starting page:  6\n",
      "Starting page:  7\n",
      "Starting page:  8\n",
      "Starting page:  9\n",
      "Starting page:  10\n"
     ]
    }
   ],
   "source": [
    "#Takes a few minutes\n",
    "for index, df in enumerate(newdfs):\n",
    "    print('Starting page: ', str(index+1))\n",
    "    df['sunset_2022-01-01'] = df.request_url.apply(lambda x:get_sunset(x))"
   ]
  },
  {
   "cell_type": "code",
   "execution_count": 383,
   "id": "b31e4204",
   "metadata": {},
   "outputs": [],
   "source": [
    "cities_geo = pd.concat(newdfs)"
   ]
  },
  {
   "cell_type": "code",
   "execution_count": 390,
   "id": "86b95be7",
   "metadata": {},
   "outputs": [],
   "source": [
    "cities_geo['sunrise_2022-01-01'] = pd.to_datetime(cities_geo['sunrise_2022-01-01'])\n",
    "cities_geo['sunset_2022-01-01'] = pd.to_datetime(cities_geo['sunset_2022-01-01'])"
   ]
  },
  {
   "cell_type": "code",
   "execution_count": 391,
   "id": "cf476b0b",
   "metadata": {},
   "outputs": [],
   "source": [
    "#!pip install timezonefinder[numba] \n",
    "from timezonefinder import TimezoneFinder\n",
    "tf = TimezoneFinder()"
   ]
  },
  {
   "cell_type": "code",
   "execution_count": 392,
   "id": "2016ea0d",
   "metadata": {},
   "outputs": [],
   "source": [
    "from datetime import timedelta"
   ]
  },
  {
   "cell_type": "code",
   "execution_count": 393,
   "id": "dda6f9ca",
   "metadata": {},
   "outputs": [],
   "source": [
    "def adjust_timezone_DST(place, latitude, longitude, time):\n",
    "    timezone = tf.timezone_at(lng=float(longitude), lat=float(latitude))\n",
    "    if timezone == 'America/Los_Angeles':\n",
    "        return time - timedelta(hours=7)\n",
    "    elif timezone == 'America/Boise':\n",
    "        return time - timedelta(hours=6)\n",
    "    elif timezone == 'America/Chicago':\n",
    "        return time - timedelta(hours=5)\n",
    "    elif timezone == 'America/New_York':\n",
    "        return time - timedelta(hours=4)"
   ]
  },
  {
   "cell_type": "code",
   "execution_count": 395,
   "id": "879fc584",
   "metadata": {},
   "outputs": [],
   "source": [
    "cities_geo['sunrise_2022-01-01'] = cities_geo.apply(lambda x:adjust_timezone_DST(x.name, x.lat, x.lng, x['sunrise_2022-01-01']), axis=1)\n",
    "cities_geo['sunset_2022-01-01'] = cities_geo.apply(lambda x:adjust_timezone_DST(x.name, x.lat, x.lng, x['sunset_2022-01-01']), axis=1)"
   ]
  },
  {
   "cell_type": "code",
   "execution_count": 402,
   "id": "b2ef083d",
   "metadata": {},
   "outputs": [],
   "source": [
    "cities_geo['sunrise_str'] = cities_geo['sunrise_2022-01-01'].dt.strftime('%H%M%S')\n",
    "cities_geo['sunset_str'] = cities_geo['sunset_2022-01-01'].dt.strftime('%H%M%S')"
   ]
  },
  {
   "cell_type": "code",
   "execution_count": 403,
   "id": "93452e80",
   "metadata": {},
   "outputs": [],
   "source": [
    "cities_geo.to_csv('cities_geo_sunrise_sunset_JanDST.csv')"
   ]
  },
  {
   "cell_type": "code",
   "execution_count": 397,
   "id": "6d74d764",
   "metadata": {},
   "outputs": [
    {
     "data": {
      "text/plain": [
       "city                          object\n",
       "state                         object\n",
       "lat                           object\n",
       "lng                           object\n",
       "request_url                   object\n",
       "sunrise_2022-01-01    datetime64[ns]\n",
       "sunset_2022-01-01     datetime64[ns]\n",
       "dtype: object"
      ]
     },
     "execution_count": 397,
     "metadata": {},
     "output_type": "execute_result"
    }
   ],
   "source": [
    "cities_geo.dtypes"
   ]
  },
  {
   "cell_type": "code",
   "execution_count": 410,
   "id": "5292c973",
   "metadata": {},
   "outputs": [
    {
     "data": {
      "text/html": [
       "<div>\n",
       "<style scoped>\n",
       "    .dataframe tbody tr th:only-of-type {\n",
       "        vertical-align: middle;\n",
       "    }\n",
       "\n",
       "    .dataframe tbody tr th {\n",
       "        vertical-align: top;\n",
       "    }\n",
       "\n",
       "    .dataframe thead th {\n",
       "        text-align: right;\n",
       "    }\n",
       "</style>\n",
       "<table border=\"1\" class=\"dataframe\">\n",
       "  <thead>\n",
       "    <tr style=\"text-align: right;\">\n",
       "      <th></th>\n",
       "      <th>city</th>\n",
       "      <th>state</th>\n",
       "      <th>lat</th>\n",
       "      <th>lng</th>\n",
       "      <th>request_url</th>\n",
       "      <th>sunrise_2022-01-01</th>\n",
       "      <th>sunset_2022-01-01</th>\n",
       "      <th>sunrise_str</th>\n",
       "      <th>sunset_str</th>\n",
       "    </tr>\n",
       "  </thead>\n",
       "  <tbody>\n",
       "    <tr>\n",
       "      <th>16</th>\n",
       "      <td>Bonners Ferry</td>\n",
       "      <td>ID</td>\n",
       "      <td>48.692551</td>\n",
       "      <td>-116.319862</td>\n",
       "      <td>https://api.sunrise-sunset.org/json?lat=48.692...</td>\n",
       "      <td>2022-03-11 08:36:00</td>\n",
       "      <td>2022-03-10 17:01:59</td>\n",
       "      <td>083600</td>\n",
       "      <td>170159</td>\n",
       "    </tr>\n",
       "    <tr>\n",
       "      <th>13</th>\n",
       "      <td>Kellogg</td>\n",
       "      <td>ID</td>\n",
       "      <td>47.538658</td>\n",
       "      <td>-116.129227</td>\n",
       "      <td>https://api.sunrise-sunset.org/json?lat=47.538...</td>\n",
       "      <td>2022-03-11 08:30:32</td>\n",
       "      <td>2022-03-10 17:05:55</td>\n",
       "      <td>083032</td>\n",
       "      <td>170555</td>\n",
       "    </tr>\n",
       "    <tr>\n",
       "      <th>98</th>\n",
       "      <td>Bangor</td>\n",
       "      <td>ME</td>\n",
       "      <td>44.808147</td>\n",
       "      <td>-68.795013</td>\n",
       "      <td>https://api.sunrise-sunset.org/json?lat=44.808...</td>\n",
       "      <td>2022-03-11 08:10:58</td>\n",
       "      <td>2022-03-11 17:06:41</td>\n",
       "      <td>081058</td>\n",
       "      <td>170641</td>\n",
       "    </tr>\n",
       "    <tr>\n",
       "      <th>14</th>\n",
       "      <td>Coeur d’Alene</td>\n",
       "      <td>ID</td>\n",
       "      <td>47.702465</td>\n",
       "      <td>-116.796883</td>\n",
       "      <td>https://api.sunrise-sunset.org/json?lat=47.702...</td>\n",
       "      <td>2022-03-11 08:33:51</td>\n",
       "      <td>2022-03-10 17:07:57</td>\n",
       "      <td>083351</td>\n",
       "      <td>170757</td>\n",
       "    </tr>\n",
       "    <tr>\n",
       "      <th>84</th>\n",
       "      <td>Post Falls</td>\n",
       "      <td>ID</td>\n",
       "      <td>47.712257</td>\n",
       "      <td>-116.948364</td>\n",
       "      <td>https://api.sunrise-sunset.org/json?lat=47.712...</td>\n",
       "      <td>2022-03-11 08:34:30</td>\n",
       "      <td>2022-03-10 17:08:31</td>\n",
       "      <td>083430</td>\n",
       "      <td>170831</td>\n",
       "    </tr>\n",
       "    <tr>\n",
       "      <th>...</th>\n",
       "      <td>...</td>\n",
       "      <td>...</td>\n",
       "      <td>...</td>\n",
       "      <td>...</td>\n",
       "      <td>...</td>\n",
       "      <td>...</td>\n",
       "      <td>...</td>\n",
       "      <td>...</td>\n",
       "      <td>...</td>\n",
       "    </tr>\n",
       "    <tr>\n",
       "      <th>45</th>\n",
       "      <td>Anderson</td>\n",
       "      <td>IN</td>\n",
       "      <td>40.109589</td>\n",
       "      <td>-85.676964</td>\n",
       "      <td>https://api.sunrise-sunset.org/json?lat=40.109...</td>\n",
       "      <td>NaT</td>\n",
       "      <td>NaT</td>\n",
       "      <td>NaN</td>\n",
       "      <td>NaN</td>\n",
       "    </tr>\n",
       "    <tr>\n",
       "      <th>61</th>\n",
       "      <td>Detroit</td>\n",
       "      <td>Michigan</td>\n",
       "      <td>42.331429</td>\n",
       "      <td>-83.045753</td>\n",
       "      <td>https://api.sunrise-sunset.org/json?lat=42.331...</td>\n",
       "      <td>NaT</td>\n",
       "      <td>NaT</td>\n",
       "      <td>NaN</td>\n",
       "      <td>NaN</td>\n",
       "    </tr>\n",
       "    <tr>\n",
       "      <th>74</th>\n",
       "      <td>Southfield</td>\n",
       "      <td>MI</td>\n",
       "      <td>42.475136</td>\n",
       "      <td>-83.221275</td>\n",
       "      <td>https://api.sunrise-sunset.org/json?lat=42.475...</td>\n",
       "      <td>NaT</td>\n",
       "      <td>NaT</td>\n",
       "      <td>NaN</td>\n",
       "      <td>NaN</td>\n",
       "    </tr>\n",
       "    <tr>\n",
       "      <th>76</th>\n",
       "      <td>Richfield</td>\n",
       "      <td>Utah</td>\n",
       "      <td>38.769287</td>\n",
       "      <td>-112.088409</td>\n",
       "      <td>https://api.sunrise-sunset.org/json?lat=38.769...</td>\n",
       "      <td>NaT</td>\n",
       "      <td>NaT</td>\n",
       "      <td>NaN</td>\n",
       "      <td>NaN</td>\n",
       "    </tr>\n",
       "    <tr>\n",
       "      <th>78</th>\n",
       "      <td>Durango</td>\n",
       "      <td>CO</td>\n",
       "      <td>37.270500</td>\n",
       "      <td>-107.878700</td>\n",
       "      <td>https://api.sunrise-sunset.org/json?lat=37.270...</td>\n",
       "      <td>NaT</td>\n",
       "      <td>NaT</td>\n",
       "      <td>NaN</td>\n",
       "      <td>NaN</td>\n",
       "    </tr>\n",
       "  </tbody>\n",
       "</table>\n",
       "<p>979 rows × 9 columns</p>\n",
       "</div>"
      ],
      "text/plain": [
       "             city     state        lat          lng  \\\n",
       "16  Bonners Ferry        ID  48.692551  -116.319862   \n",
       "13        Kellogg        ID  47.538658  -116.129227   \n",
       "98         Bangor        ME  44.808147   -68.795013   \n",
       "14  Coeur d’Alene        ID  47.702465  -116.796883   \n",
       "84     Post Falls        ID  47.712257  -116.948364   \n",
       "..            ...       ...        ...          ...   \n",
       "45       Anderson        IN  40.109589   -85.676964   \n",
       "61        Detroit  Michigan  42.331429   -83.045753   \n",
       "74     Southfield        MI  42.475136   -83.221275   \n",
       "76      Richfield      Utah  38.769287  -112.088409   \n",
       "78        Durango        CO  37.270500  -107.878700   \n",
       "\n",
       "                                          request_url  sunrise_2022-01-01  \\\n",
       "16  https://api.sunrise-sunset.org/json?lat=48.692... 2022-03-11 08:36:00   \n",
       "13  https://api.sunrise-sunset.org/json?lat=47.538... 2022-03-11 08:30:32   \n",
       "98  https://api.sunrise-sunset.org/json?lat=44.808... 2022-03-11 08:10:58   \n",
       "14  https://api.sunrise-sunset.org/json?lat=47.702... 2022-03-11 08:33:51   \n",
       "84  https://api.sunrise-sunset.org/json?lat=47.712... 2022-03-11 08:34:30   \n",
       "..                                                ...                 ...   \n",
       "45  https://api.sunrise-sunset.org/json?lat=40.109...                 NaT   \n",
       "61  https://api.sunrise-sunset.org/json?lat=42.331...                 NaT   \n",
       "74  https://api.sunrise-sunset.org/json?lat=42.475...                 NaT   \n",
       "76  https://api.sunrise-sunset.org/json?lat=38.769...                 NaT   \n",
       "78  https://api.sunrise-sunset.org/json?lat=37.270...                 NaT   \n",
       "\n",
       "     sunset_2022-01-01 sunrise_str sunset_str  \n",
       "16 2022-03-10 17:01:59      083600     170159  \n",
       "13 2022-03-10 17:05:55      083032     170555  \n",
       "98 2022-03-11 17:06:41      081058     170641  \n",
       "14 2022-03-10 17:07:57      083351     170757  \n",
       "84 2022-03-10 17:08:31      083430     170831  \n",
       "..                 ...         ...        ...  \n",
       "45                 NaT         NaN        NaN  \n",
       "61                 NaT         NaN        NaN  \n",
       "74                 NaT         NaN        NaN  \n",
       "76                 NaT         NaN        NaN  \n",
       "78                 NaT         NaN        NaN  \n",
       "\n",
       "[979 rows x 9 columns]"
      ]
     },
     "execution_count": 410,
     "metadata": {},
     "output_type": "execute_result"
    }
   ],
   "source": [
    "cities_geo.sort_values('sunset_str')"
   ]
  },
  {
   "cell_type": "code",
   "execution_count": null,
   "id": "d2442c70",
   "metadata": {},
   "outputs": [],
   "source": []
  }
 ],
 "metadata": {
  "kernelspec": {
   "display_name": "Python 3 (ipykernel)",
   "language": "python",
   "name": "python3"
  },
  "language_info": {
   "codemirror_mode": {
    "name": "ipython",
    "version": 3
   },
   "file_extension": ".py",
   "mimetype": "text/x-python",
   "name": "python",
   "nbconvert_exporter": "python",
   "pygments_lexer": "ipython3",
   "version": "3.10.0"
  }
 },
 "nbformat": 4,
 "nbformat_minor": 5
}
